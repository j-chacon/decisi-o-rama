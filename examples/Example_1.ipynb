{
 "cells": [
  {
   "cell_type": "markdown",
   "metadata": {},
   "source": [
    "# Example 1\n",
    "\n",
    "This example aims to show the usage of the decisiorama tool for solving MCDA problems. This example is based on the paper of Lahtinen et al. 2007. The objective is to determine the set of non-dominated solutions for a series of interventions. for the model, we use a neutral utility function and an additive aggregation.\n"
   ]
  },
  {
   "cell_type": "code",
   "execution_count": 1,
   "metadata": {},
   "outputs": [
    {
     "name": "stdout",
     "output_type": "stream",
     "text": [
      "<module 'decisiorama' from '../decisiorama/__init__.py'>\n"
     ]
    }
   ],
   "source": [
    "# import libraries \n",
    "import sys\n",
    "sys.path.insert(0, '..')\n",
    "\n",
    "import numpy as np\n",
    "\n",
    "import decisiorama\n",
    "from decisiorama.pda.preference import Objective, Evaluator\n",
    "from decisiorama.pda import utility, aggregate, ranker\n",
    "\n",
    "import itertools  # for generating all possible set of solutions\n",
    "import matplotlib.pyplot as plt  # For visualisation\n",
    "\n",
    "print(decisiorama)  # Here we check on source of the library"
   ]
  },
  {
   "cell_type": "markdown",
   "metadata": {},
   "source": [
    "## Defining the MCDA attributes\n",
    "\n",
    "In this section we define the value of the attributes for each action. As we have 9 potential actions, in each alternative, this should correspond to the number of elements in each attribute value. \n",
    "\n",
    "To represent the uncertain values of the estimates, we use a range of values in the form of a vector."
   ]
  },
  {
   "cell_type": "code",
   "execution_count": 2,
   "metadata": {},
   "outputs": [],
   "source": [
    "# Define the value for each of the model attributes\n",
    "\n",
    "# Phosporous\n",
    "p = np.array([[0.9, 1.1],\n",
    "              [1.1, 1.3],\n",
    "              [1.3, 1.7],\n",
    "              [0.0, 0.0],\n",
    "              [0.0, 0.0],\n",
    "              [0.0, 0.0],\n",
    "              [0.5, 0.6],\n",
    "              [0.0, 0.0],\n",
    "              [4.0, 4.8],])\n",
    "\n",
    "# Nitrates\n",
    "n2 = np.array([[0.09, 0.11],\n",
    "               [0.09, 0.11],\n",
    "               [0.14, 0.17],\n",
    "               [0.00, 0.00],\n",
    "               [0.00, 0.00],\n",
    "               [0.00, 0.00],\n",
    "               [0.00, 0.00],\n",
    "               [0.00, 0.00],\n",
    "               [0.40, 0.48],])\n",
    "\n",
    "# Climate\n",
    "climate = np.array([[0.0, 0.0],\n",
    "                    [0.0, 0.0],\n",
    "                    [0.5, 1.5],\n",
    "                    [-1.5, -0.5],\n",
    "                    [0.0, 0.0],\n",
    "                    [0.5, 1.5],\n",
    "                    [0.0, 0.0],\n",
    "                    [0.0, 0.0],\n",
    "                    [-2.5, -1.5],])\n",
    "\n",
    "# Savings\n",
    "savings = np.array([[1.8, 2.2],\n",
    "                    [1.8, 2.2],\n",
    "                    [1.8, 2.2],\n",
    "                    [1.8, 2.2],\n",
    "                    [0.9, 1.1],\n",
    "                    [9.0, 11.0],\n",
    "                    [32.0, 40.0],\n",
    "                    [14.0, 18.0],\n",
    "                    [3.5, 4.5],])\n",
    "\n",
    "# Overall - These will be calculated\n",
    "overall = None\n",
    "\n"
   ]
  },
  {
   "cell_type": "markdown",
   "metadata": {},
   "source": [
    "## Defining the objetives hierarchy\n",
    "\n",
    "Once the value of the attributes have been defined, we proceed to determine the preference model. This preference model is constructed by aggregating the 4 attributes (p, n2, climate and savings) into an overall objective. To this end, we assume an equal weight, of each of the attributes (0.25), an exponential utility function with a curvature (parameter) of 0, and an additive aggregation function.\n",
    "\n",
    "First, we define the amount of random samples (n). Then we proceed to construct each of the objectives in the hierarchy, using the `Objective` class from `decisiorama.pda.preference`. The constructor of this this class takes the arugments presented. Further details are available in the documentation. Next, we construct the objectives hierarchy, by defining the sub-objective (children) of each objective by using the `add_children` method of the objective. in this particular case, the 4 attributes are sub-objectives of the \"overall\" attribute."
   ]
  },
  {
   "cell_type": "code",
   "execution_count": 8,
   "metadata": {},
   "outputs": [],
   "source": [
    "# Define the number of random samlpes to draw for the Monte Carlo experiment\n",
    "n = 10000\n",
    "\n",
    "obj_p = Objective(\n",
    "        name = 'p',\n",
    "        w = 0.25,\n",
    "        alternatives = p, \n",
    "        obj_min = 0.0, \n",
    "        obj_max = 4.8, \n",
    "        n = n, \n",
    "        utility_func = utility.exponential, \n",
    "        utility_pars = [0.0, ], \n",
    "        aggregation_func = aggregate.additive, \n",
    "        aggregation_pars = None,\n",
    "        maximise = True)\n",
    "\n",
    "obj_n2 = Objective(\n",
    "        name = 'n2',\n",
    "        w = 0.25,\n",
    "        alternatives = n2, \n",
    "        obj_min = 0.0, \n",
    "        obj_max = 0.48, \n",
    "        n = n, \n",
    "        utility_func = utility.exponential, \n",
    "        utility_pars = [0.0, ], \n",
    "        aggregation_func = aggregate.additive, \n",
    "        aggregation_pars = None,\n",
    "        maximise = True)\n",
    "\n",
    "obj_climate = Objective(\n",
    "        name = 'climate',\n",
    "        w = 0.25,\n",
    "        alternatives = climate, \n",
    "        obj_min = -2.5, \n",
    "        obj_max = 1.5, \n",
    "        n = n, \n",
    "        utility_func = utility.exponential, \n",
    "        utility_pars = [0.0, ], \n",
    "        aggregation_func = aggregate.additive, \n",
    "        aggregation_pars = None,\n",
    "        maximise = True)\n",
    "\n",
    "obj_savings = Objective(\n",
    "        name = 'savings',\n",
    "        w = 0.25,\n",
    "        alternatives = savings, \n",
    "        obj_min = 0.9, \n",
    "        obj_max = 40.0, \n",
    "        n = n, \n",
    "        utility_func = utility.exponential, \n",
    "        utility_pars = [0.0, ], \n",
    "        aggregation_func = aggregate.additive, \n",
    "        aggregation_pars = None,\n",
    "        maximise = True)\n",
    "\n",
    "obj_overall = Objective(\n",
    "        name = 'overall',\n",
    "        w = 0.25,\n",
    "        alternatives = overall, \n",
    "        obj_min = 0.0, \n",
    "        obj_max = 1.0, \n",
    "        n = n, \n",
    "        utility_func = utility.exponential, \n",
    "        utility_pars = 0.0, \n",
    "        aggregation_func = aggregate.additive, \n",
    "        aggregation_pars = None,\n",
    "        maximise = True)\n",
    "\n",
    "# Build the objectives hierarchy\n",
    "obj_overall.add_children(obj_p)\n",
    "obj_overall.add_children(obj_n2)\n",
    "obj_overall.add_children(obj_climate) \n",
    "obj_overall.add_children(obj_savings)\n"
   ]
  },
  {
   "cell_type": "markdown",
   "metadata": {},
   "source": [
    "## Creating the potential portfolios tu run through the preference model\n",
    "\n",
    "The portfolios can be represented by a binary vector, where 0 indicates the action is not carried out, while the  1 represent it is. For the solution to be considered valid, it has to satisfy the problem requirements, meaning that the total cost should not be over the budget, and the water savings (`water`) should be at least 0.5. Keep in mind that as the reduction in water savings are given as a fraction of the total, there is a diminishing benefit once each action is considered.\n",
    "\n",
    "Once these are identified, we proceed to calculate all possible portfolios (using `itertools.product`), and then filtering the solutions that are not feasible. To this end, we create the function `filter_inps` that takes a sequence of portfolios, and returns the set of feasible portfolios."
   ]
  },
  {
   "cell_type": "code",
   "execution_count": 5,
   "metadata": {},
   "outputs": [],
   "source": [
    "# Define the problem limits\n",
    "costs = [1.0, 1.0, 2.0, 10.0, 8.0, 11.0, 43.0, 23.0, 20.0]\n",
    "water = [0.03, 0.07, 0.04, 0.015, 0.10, 0.38, 0.15, 0.34, 0.46]\n",
    "budget_limit = 45.0\n",
    "\n",
    "# Make function to filter out the infeasible portfolios\n",
    "def filter_inps(inps):\n",
    "    '''\n",
    "    inps : list, int\n",
    "        Contains the portfolios. 1 represents the action is carried out, while 0 means the action is not.\n",
    "    '''\n",
    "    out = []\n",
    "    \n",
    "    def follow_up(pred, post):\n",
    "        '''Test if the post action is a follow-up from the predecesor'''\n",
    "        if post:\n",
    "            if not pred:\n",
    "                return False\n",
    "        return True\n",
    "        \n",
    "    def mutual_exclusive(a, b):\n",
    "        '''Test for mutual exclusivity'''\n",
    "        if a and b:\n",
    "            return False\n",
    "        return True\n",
    "\n",
    "    for x in inps:\n",
    "    \n",
    "        # add the constraint of a follow up action\n",
    "        if not follow_up(x[3], x[4]):\n",
    "            continue\n",
    "        \n",
    "        # add the constraint of a mutually exclusive action\n",
    "        if not mutual_exclusive(x[3], x[5]):\n",
    "            continue\n",
    "        \n",
    "        if not mutual_exclusive(x[6], x[7]):\n",
    "            continue\n",
    "        \n",
    "        if not mutual_exclusive(x[6], x[8]):\n",
    "            continue\n",
    "     \n",
    "        # add budget and water savings constraints\n",
    "        budget = np.sum([a for i, a in enumerate(costs) if x[i]]) \n",
    "        if budget > budget_limit:\n",
    "            continue\n",
    "    \n",
    "        water_target = 1.0 - np.prod([(1.0 - a) for i, a in enumerate(water) if x[i]])\n",
    "        if water_target < 0.5:\n",
    "            continue\n",
    "        \n",
    "        out.append(x)\n",
    "    return out\n",
    "\n",
    "# generate the potential portfolios\n",
    "inp_comb = list(itertools.product([0, 1], repeat=len(x)))  # Make all possible combinations of portfolios\n",
    "inps = np.array(filter_inps(inp_comb))  # Eliminate unfeasible portfolios\n",
    "\n"
   ]
  },
  {
   "cell_type": "markdown",
   "metadata": {},
   "source": [
    "## Evaluating the portfolios\n",
    "\n",
    "First, we use the feasible portfolios and obtain the value of the overall objective for those actions. To that end, we can map the results using the fasible portfolios using the `get_value` method in the obejctive class."
   ]
  },
  {
   "cell_type": "code",
   "execution_count": 10,
   "metadata": {},
   "outputs": [],
   "source": [
    "res = np.array(list(map(obj_overall.get_value, inps)))  # obtain the results for the feasible portfolios"
   ]
  },
  {
   "cell_type": "markdown",
   "metadata": {},
   "source": [
    "After, we use the `Evaluator` class to process the results. First, we instanciate the `Evaluator` class by pairing the inputs and results. Next, we define which functions we are going to be used to evaluate the results, indicating if the we would like to either minimize or not (therefore maximise) its value. By havinf these items, we can proceed to determine non-dominated solutions, using the `get_pareto_solutions` method."
   ]
  },
  {
   "cell_type": "code",
   "execution_count": 16,
   "metadata": {},
   "outputs": [
    {
     "data": {
      "image/png": "[encoded data removed]",
      "text/plain": [
       "<Figure size 288x216 with 1 Axes>"
      ]
     },
     "metadata": {
      "needs_background": "light"
     },
     "output_type": "display_data"
    },
    {
     "data": {
      "image/png": "[encoded data removed]",
      "text/plain": [
       "<Figure size 288x216 with 1 Axes>"
      ]
     },
     "metadata": {
      "needs_background": "light"
     },
     "output_type": "display_data"
    }
   ],
   "source": [
    "# Evaluate the solutions\n",
    "ev_overall = Evaluator(inps, res)\n",
    "ev_overall.add_function(ranker.mean, minimize=False)\n",
    "ev_overall.add_function(ranker.iqr, minimize=True)\n",
    "ev_overall.add_function(ranker.cov, minimize=True)\n",
    "\n",
    "# ee.get_pareto_solutions()\n",
    "par_sols = ev_overall.get_pareto_solutions()\n",
    "\n",
    "# Plot the pareto solutions for the overall objective\n",
    "plt.figure(figsize=[4,3])\n",
    "plt.plot(ranker.mean(res), ranker.iqr(res), '.', label='Dominated')\n",
    "plt.plot(ranker.mean(res)[par_sols], ranker.iqr(res)[par_sols], '.r', label='Non-dominated')\n",
    "plt.xlabel('Mean')\n",
    "plt.ylabel('IQR')\n",
    "plt.grid()\n",
    "plt.legend()\n",
    "plt.show()\n",
    "\n",
    "plt.figure(figsize=[4,3])\n",
    "plt.plot(ranker.mean(res), ranker.cov(res), '.', label='Dominated')\n",
    "plt.plot(ranker.mean(res)[par_sols], ranker.cov(res)[par_sols], '.r', label='Non-dominated')\n",
    "plt.xlabel('Mean')\n",
    "plt.ylabel('COV')\n",
    "plt.grid()\n",
    "plt.legend()\n",
    "plt.show()\n"
   ]
  }
 ],
 "metadata": {
  "kernelspec": {
   "display_name": "Python 3",
   "language": "python",
   "name": "python3"
  },
  "language_info": {
   "codemirror_mode": {
    "name": "ipython",
    "version": 3
   },
   "file_extension": ".py",
   "mimetype": "text/x-python",
   "name": "python",
   "nbconvert_exporter": "python",
   "pygments_lexer": "ipython3",
   "version": "3.7.7"
  }
 },
 "nbformat": 4,
 "nbformat_minor": 2
}
