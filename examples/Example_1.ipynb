{
 "cells": [
  {
   "cell_type": "markdown",
   "metadata": {},
   "source": [
    "# Example 1\n",
    "\n",
    "This example aims to show the usage of the decisiorama tool for solving MCDA problems. This example is based on the paper of Lahtinen 2007[addlink] \n",
    "\n"
   ]
  },
  {
   "cell_type": "code",
   "execution_count": 1,
   "metadata": {},
   "outputs": [
    {
     "name": "stdout",
     "output_type": "stream",
     "text": [
      "<module 'decisiorama' from '..\\\\decisiorama\\\\__init__.py'>\n"
     ]
    }
   ],
   "source": [
    "# import libraries \n",
    "import sys\n",
    "sys.path.insert(0, '..')\n",
    "\n",
    "import numpy as np\n",
    "\n",
    "import decisiorama\n",
    "from decisiorama.pda.preference import Objective, Evaluator\n",
    "from decisiorama.pda import utility, aggregate, ranker\n",
    "import itertools\n",
    "\n",
    "print(decisiorama)"
   ]
  },
  {
   "cell_type": "markdown",
   "metadata": {},
   "source": [
    "## Definition of the solutions\n",
    "\n",
    "Here we define the solutions. For each leaf objective, "
   ]
  },
  {
   "cell_type": "code",
   "execution_count": 2,
   "metadata": {},
   "outputs": [],
   "source": [
    "# Phosporous\n",
    "p = np.array([[0.9, 1.1],\n",
    "              [1.1, 1.3],\n",
    "              [1.3, 1.7],\n",
    "              [0.0, 0.0],\n",
    "              [0.0, 0.0],\n",
    "              [0.0, 0.0],\n",
    "              [0.5, 0.6],\n",
    "              [0.0, 0.0],\n",
    "              [4.0, 4.8],])\n",
    "\n",
    "# Nitrates\n",
    "n2 = np.array([[0.09, 0.11],\n",
    "               [0.09, 0.11],\n",
    "               [0.14, 0.17],\n",
    "               [0.00, 0.00],\n",
    "               [0.00, 0.00],\n",
    "               [0.00, 0.00],\n",
    "               [0.00, 0.00],\n",
    "               [0.00, 0.00],\n",
    "               [0.40, 0.48],])\n",
    "\n",
    "# Climate\n",
    "climate = np.array([[0.0, 0.0],\n",
    "                    [0.0, 0.0],\n",
    "                    [0.5, 1.5],\n",
    "                    [-1.5, -0.5],\n",
    "                    [0.0, 0.0],\n",
    "                    [0.5, 1.5],\n",
    "                    [0.0, 0.0],\n",
    "                    [0.0, 0.0],\n",
    "                    [-2.5, -1.5],])\n",
    "\n",
    "# Savings\n",
    "savings = np.array([[1.8, 2.2],\n",
    "                    [1.8, 2.2],\n",
    "                    [1.8, 2.2],\n",
    "                    [1.8, 2.2],\n",
    "                    [0.9, 1.1],\n",
    "                    [9.0, 11.0],\n",
    "                    [32.0, 40.0],\n",
    "                    [14.0, 18.0],\n",
    "                    [3.5, 4.5],])\n",
    "\n",
    "# Overall\n",
    "overall = None\n",
    "\n",
    "# Create of a dictionary with the solutions\n",
    "sols = dict(p=p, n2=n2, climate=climate, savings=savings, overall=overall)"
   ]
  },
  {
   "cell_type": "code",
   "execution_count": 3,
   "metadata": {},
   "outputs": [],
   "source": [
    "# Define the problem limits\n",
    "costs = [1.0, 1.0, 2.0, 10.0, 8.0, 11.0, 43.0, 23.0, 20.0]\n",
    "water = [0.03, 0.07, 0.04, 0.015, 0.10, 0.38, 0.15, 0.34, 0.46]\n",
    "budget_limit = 45.0\n",
    "n = 1000"
   ]
  },
  {
   "cell_type": "code",
   "execution_count": 4,
   "metadata": {},
   "outputs": [],
   "source": [
    "obj_p = Objective(\n",
    "        name = 'p',\n",
    "        w = 0.25,\n",
    "        alternatives = sols['p'], \n",
    "        obj_min = 0.0, \n",
    "        obj_max = 4.8, \n",
    "        n = n, \n",
    "        utility_func = utility.exponential, \n",
    "        utility_pars = [0.0, ], \n",
    "        aggregation_func = aggregate.additive, \n",
    "        aggregation_pars = None,\n",
    "        maximise = False)\n",
    "\n",
    "obj_n2 = Objective(\n",
    "        name = 'n2',\n",
    "        w = 0.25,\n",
    "        alternatives = sols['n2'], \n",
    "        obj_min = 0.0, \n",
    "        obj_max = 0.48, \n",
    "        n = n, \n",
    "        utility_func = utility.exponential, \n",
    "        utility_pars = [0.0, ], \n",
    "        aggregation_func = aggregate.additive, \n",
    "        aggregation_pars = None,\n",
    "        maximise = False)\n",
    "\n",
    "obj_climate = Objective(\n",
    "        name = 'climate',\n",
    "        w = 0.25,\n",
    "        alternatives = sols['climate'][:], \n",
    "        obj_min = -2.5, \n",
    "        obj_max = 1.5, \n",
    "        n = n, \n",
    "        utility_func = utility.exponential, \n",
    "        utility_pars = [0.0, ], \n",
    "        aggregation_func = aggregate.additive, \n",
    "        aggregation_pars = None,\n",
    "        maximise = False)\n",
    "\n",
    "obj_savings = Objective(\n",
    "        name = 'savings',\n",
    "        w = 0.25,\n",
    "        alternatives = sols['savings'], \n",
    "        obj_min = 0.9, \n",
    "        obj_max = 40.0, \n",
    "        n = n, \n",
    "        utility_func = utility.exponential, \n",
    "        utility_pars = [0.0, ], \n",
    "        aggregation_func = aggregate.additive, \n",
    "        aggregation_pars = None,\n",
    "        maximise = False)\n",
    "\n",
    "obj_overall = Objective(\n",
    "        name = 'overall',\n",
    "        w = 0.25,\n",
    "        alternatives = sols['climate'], \n",
    "        obj_min = 0.9, \n",
    "        obj_max = 40.0, \n",
    "        n = n, \n",
    "        utility_func = utility.exponential, \n",
    "        utility_pars = 0.0, \n",
    "        aggregation_func = aggregate.additive, \n",
    "        aggregation_pars = None,\n",
    "        maximise = False)\n",
    "\n"
   ]
  },
  {
   "cell_type": "code",
   "execution_count": 5,
   "metadata": {},
   "outputs": [
    {
     "name": "stdout",
     "output_type": "stream",
     "text": [
      "[4.125 3.125]\n",
      "[3.375 3.375]\n"
     ]
    }
   ],
   "source": [
    "x = [1,1,1,1,1,1,1,1,1]\n",
    "print(obj_climate.get_value(x))\n",
    "\n",
    "x = [0,0,0,0,0,0,0,0,0]\n",
    "print(obj_climate.get_value(x))\n"
   ]
  },
  {
   "cell_type": "code",
   "execution_count": 6,
   "metadata": {},
   "outputs": [
    {
     "name": "stdout",
     "output_type": "stream",
     "text": [
      "[[ 0.   0. ]\n",
      " [ 0.   0. ]\n",
      " [ 0.5  1.5]\n",
      " [-1.5 -0.5]\n",
      " [ 0.   0. ]\n",
      " [ 0.5  1.5]\n",
      " [ 0.   0. ]\n",
      " [ 0.   0. ]\n",
      " [-2.5 -1.5]]\n",
      "[[ 1.8  2.2]\n",
      " [ 1.8  2.2]\n",
      " [ 1.8  2.2]\n",
      " [ 1.8  2.2]\n",
      " [ 0.9  1.1]\n",
      " [ 9.  11. ]\n",
      " [32.  40. ]\n",
      " [14.  18. ]\n",
      " [ 3.5  4.5]]\n"
     ]
    }
   ],
   "source": [
    "print(sols['climate'])\n",
    "print(sols['savings'])"
   ]
  },
  {
   "cell_type": "code",
   "execution_count": 7,
   "metadata": {},
   "outputs": [
    {
     "data": {
      "text/plain": [
       "{'p': array([[0.9, 1.1],\n",
       "        [1.1, 1.3],\n",
       "        [1.3, 1.7],\n",
       "        [0. , 0. ],\n",
       "        [0. , 0. ],\n",
       "        [0. , 0. ],\n",
       "        [0.5, 0.6],\n",
       "        [0. , 0. ],\n",
       "        [4. , 4.8]]), 'n2': array([[0.09, 0.11],\n",
       "        [0.09, 0.11],\n",
       "        [0.14, 0.17],\n",
       "        [0.  , 0.  ],\n",
       "        [0.  , 0.  ],\n",
       "        [0.  , 0.  ],\n",
       "        [0.  , 0.  ],\n",
       "        [0.  , 0.  ],\n",
       "        [0.4 , 0.48]]), 'climate': array([[ 0. ,  0. ],\n",
       "        [ 0. ,  0. ],\n",
       "        [ 0.5,  1.5],\n",
       "        [-1.5, -0.5],\n",
       "        [ 0. ,  0. ],\n",
       "        [ 0.5,  1.5],\n",
       "        [ 0. ,  0. ],\n",
       "        [ 0. ,  0. ],\n",
       "        [-2.5, -1.5]]), 'savings': array([[ 1.8,  2.2],\n",
       "        [ 1.8,  2.2],\n",
       "        [ 1.8,  2.2],\n",
       "        [ 1.8,  2.2],\n",
       "        [ 0.9,  1.1],\n",
       "        [ 9. , 11. ],\n",
       "        [32. , 40. ],\n",
       "        [14. , 18. ],\n",
       "        [ 3.5,  4.5]]), 'overall': None}"
      ]
     },
     "execution_count": 7,
     "metadata": {},
     "output_type": "execute_result"
    }
   ],
   "source": [
    "sols"
   ]
  },
  {
   "cell_type": "code",
   "execution_count": 8,
   "metadata": {},
   "outputs": [],
   "source": [
    "obj_overall.add_children(obj_p)\n",
    "obj_overall.add_children(obj_n2)\n",
    "obj_overall.add_children(obj_climate) \n",
    "obj_overall.add_children(obj_savings)\n"
   ]
  },
  {
   "cell_type": "code",
   "execution_count": 17,
   "metadata": {},
   "outputs": [
    {
     "data": {
      "text/plain": [
       "array([6.62595908, 6.10187553])"
      ]
     },
     "execution_count": 17,
     "metadata": {},
     "output_type": "execute_result"
    }
   ],
   "source": [
    "# prob = dict(p=p, n2=n2, climate=climate, savings=savings, \n",
    "#             overall=overall)\n",
    "\n",
    "# test the problem solutions\n",
    "x = [1,1,1,1,1,1,1,1,1]\n",
    "obj_overall.get_value(x)\n"
   ]
  },
  {
   "cell_type": "code",
   "execution_count": 18,
   "metadata": {},
   "outputs": [],
   "source": [
    "def filter_inps(inps):\n",
    "    out = []\n",
    "    def follow_up(pred, post):\n",
    "        if post:\n",
    "            if not pred:\n",
    "                return False\n",
    "        return True\n",
    "        \n",
    "    def mutual_exclusive(a, b):\n",
    "        if a and b:\n",
    "            return False\n",
    "        return True\n",
    "\n",
    "    for x in inps:        \n",
    "    \n",
    "        # follow up action\n",
    "        if not follow_up(x[3], x[4]):\n",
    "            continue\n",
    "        \n",
    "        # Mutually exclusive actions\n",
    "        if not mutual_exclusive(x[3], x[5]):\n",
    "            continue\n",
    "        \n",
    "        if not mutual_exclusive(x[6], x[7]):\n",
    "            continue\n",
    "        \n",
    "        if not mutual_exclusive(x[6], x[8]):\n",
    "            continue\n",
    "     \n",
    "        # Budget and water constraints\n",
    "        budget = np.sum([a for i, a in enumerate(costs) if x[i]]) \n",
    "        if budget > budget_limit:\n",
    "            continue\n",
    "    \n",
    "        water_target = 1.0 - np.prod([(1.0 - a) for i, a in enumerate(water) if x[i]])\n",
    "        if water_target < 0.5:\n",
    "            continue\n",
    "        \n",
    "        out.append(x)\n",
    "    return out\n",
    "# get all the results\n",
    "inp_comb = list(itertools.product([0, 1], repeat=len(x)))\n",
    "\n",
    "inps = np.array(filter_inps(inp_comb))\n",
    "res = np.array(list(map(obj_overall.get_value, inps)))\n",
    "\n"
   ]
  },
  {
   "cell_type": "code",
   "execution_count": 24,
   "metadata": {},
   "outputs": [],
   "source": [
    "ee = Evaluator(inps, res)\n",
    "ee.add_function(ranker.mean, minimize=False)\n",
    "# ee.add_function(ranker.mean, minimize=False)\n",
    "ee.add_function(ranker.iqr, minimize=True)\n",
    "# ee.get_pareto_solutions()"
   ]
  },
  {
   "cell_type": "code",
   "execution_count": 26,
   "metadata": {},
   "outputs": [
    {
     "data": {
      "text/plain": [
       "array([2], dtype=int64)"
      ]
     },
     "execution_count": 26,
     "metadata": {},
     "output_type": "execute_result"
    }
   ],
   "source": [
    "ee.get_pareto_solutions()"
   ]
  },
  {
   "cell_type": "code",
   "execution_count": 28,
   "metadata": {},
   "outputs": [
    {
     "data": {
      "text/plain": [
       "array([[7.2329497 , 7.05514706],\n",
       "       [7.23366901, 7.00615409],\n",
       "       [7.42695013, 7.32608696],\n",
       "       [7.40470482, 7.1861413 ],\n",
       "       [7.05532023, 6.77600171],\n",
       "       [7.05603954, 6.72700874],\n",
       "       [7.24932065, 7.0469416 ],\n",
       "       [7.22707534, 6.90699595],\n",
       "       [7.12302856, 6.92183504],\n",
       "       [7.12374787, 6.87284207],\n",
       "       [7.31702899, 7.19277494],\n",
       "       [7.29478367, 7.05410806],\n",
       "       [7.29478367, 7.05282928],\n",
       "       [7.02915867, 6.75202472],\n",
       "       [6.94611839, 6.59369672],\n",
       "       [7.13939951, 6.91362958],\n",
       "       [7.1171542 , 6.7749627 ],\n",
       "       [7.1171542 , 6.77368393],\n",
       "       [7.13344523, 6.93225171],\n",
       "       [7.13416454, 6.88325874],\n",
       "       [7.32744565, 7.2031916 ],\n",
       "       [7.30520034, 7.06324595],\n",
       "       [6.95653506, 6.60411338],\n",
       "       [7.14981618, 6.92404625],\n",
       "       [7.12757087, 6.78537937],\n",
       "       [7.12757087, 6.7841006 ],\n",
       "       [7.10728367, 6.90827472],\n",
       "       [7.02352408, 6.79893968],\n",
       "       [7.02424339, 6.74994672],\n",
       "       [7.21752451, 7.06987958],\n",
       "       [7.1952792 , 6.9312127 ],\n",
       "       [7.1952792 , 6.92993393],\n",
       "       [6.9296542 , 6.62912937],\n",
       "       [6.84661392, 6.47080136],\n",
       "       [7.03989503, 6.79073423],\n",
       "       [7.01764972, 6.65206735],\n",
       "       [7.01764972, 6.65078858]])"
      ]
     },
     "execution_count": 28,
     "metadata": {},
     "output_type": "execute_result"
    }
   ],
   "source": [
    "res"
   ]
  }
 ],
 "metadata": {
  "kernelspec": {
   "display_name": "Python 3",
   "language": "python",
   "name": "python3"
  },
  "language_info": {
   "codemirror_mode": {
    "name": "ipython",
    "version": 3
   },
   "file_extension": ".py",
   "mimetype": "text/x-python",
   "name": "python",
   "nbconvert_exporter": "python",
   "pygments_lexer": "ipython3",
   "version": "3.7.3"
  }
 },
 "nbformat": 4,
 "nbformat_minor": 2
}
