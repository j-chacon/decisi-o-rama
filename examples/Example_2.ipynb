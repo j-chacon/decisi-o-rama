{
 "cells": [
  {
   "cell_type": "markdown",
   "metadata": {},
   "source": [
    "# Example 2\n",
    "\n",
    "This example aims to show the usage of the decisiorama tool for solving MCDA problems. This example is based on the paper of Lahtinen 2007[addlink] \n",
    "\n"
   ]
  },
  {
   "cell_type": "code",
   "execution_count": 1,
   "metadata": {},
   "outputs": [
    {
     "name": "stdout",
     "output_type": "stream",
     "text": [
      "<module 'decisiorama' from '..\\\\decisiorama\\\\__init__.py'>\n"
     ]
    }
   ],
   "source": [
    "# import libraries \n",
    "import sys\n",
    "sys.path.insert(0, '..')\n",
    "\n",
    "import numpy as np\n",
    "\n",
    "import decisiorama\n",
    "from decisiorama.pda.preference import Objective, Evaluator\n",
    "from decisiorama.pda import utility, aggregate, ranker\n",
    "import decisiorama.utils.random_instance as ri\n",
    "import itertools\n",
    "import matplotlib.pyplot as plt\n",
    "\n",
    "print(decisiorama)"
   ]
  },
  {
   "cell_type": "markdown",
   "metadata": {},
   "source": [
    "## Definition of the solutions\n",
    "\n",
    "Here we define the solutions. For each leaf objective, "
   ]
  },
  {
   "cell_type": "code",
   "execution_count": 2,
   "metadata": {},
   "outputs": [],
   "source": [
    "# Define the solutions for each of the actions\n",
    "\n",
    "# Phosporous\n",
    "p = [ri.Uniform(0.9, 1.1).get,\n",
    "     ri.Uniform(1.1, 1.3).get,\n",
    "     ri.Uniform(1.3, 1.7).get,\n",
    "     ri.Uniform(0.0, 0.0).get,\n",
    "     ri.Uniform(0.0, 0.0).get,\n",
    "     ri.Uniform(0.0, 0.0).get,\n",
    "     ri.Uniform(0.5, 0.6).get,\n",
    "     ri.Uniform(0.0, 0.0).get,\n",
    "     ri.Uniform(4.0, 4.8).get,\n",
    "     ]\n",
    "\n",
    "# Nitrates\n",
    "n2 = [ri.Uniform(0.09, 0.11).get,\n",
    "      ri.Uniform(0.09, 0.11).get,\n",
    "      ri.Uniform(0.14, 0.17).get,\n",
    "      ri.Uniform(0.00, 0.00).get,\n",
    "      ri.Uniform(0.00, 0.00).get,\n",
    "      ri.Uniform(0.00, 0.00).get,\n",
    "      ri.Uniform(0.00, 0.00).get,\n",
    "      ri.Uniform(0.00, 0.00).get,\n",
    "      ri.Uniform(0.40, 0.48).get,\n",
    "      ]\n",
    "\n",
    "# Climate\n",
    "climate = [ri.Uniform(0.0, 0.0).get,\n",
    "           ri.Uniform(0.0, 0.0).get,\n",
    "           ri.Uniform(0.5, 1.5).get,\n",
    "           ri.Uniform(-1.5, -0.5).get,\n",
    "           ri.Uniform(0.0, 0.0).get,\n",
    "           ri.Uniform(0.5, 1.5).get,\n",
    "           ri.Uniform(0.0, 0.0).get,\n",
    "           ri.Uniform(0.0, 0.0).get,\n",
    "           ri.Uniform(-2.5, -1.5).get,\n",
    "           ]\n",
    "\n",
    "# Savings\n",
    "savings = [ri.Uniform(1.8, 2.2).get,\n",
    "           ri.Uniform(1.8, 2.2).get,\n",
    "           ri.Uniform(1.8, 2.2).get,\n",
    "           ri.Uniform(1.8, 2.2).get,\n",
    "           ri.Uniform(0.9, 1.1).get,\n",
    "           ri.Uniform(9.0, 11.0).get,\n",
    "           ri.Uniform(32.0, 40.0).get,\n",
    "           ri.Uniform(14.0, 18.0).get,\n",
    "           ri.Uniform(3.5, 4.5).get,\n",
    "          ]\n",
    "\n",
    "# Overall\n",
    "overall = None\n"
   ]
  },
  {
   "cell_type": "code",
   "execution_count": 24,
   "metadata": {},
   "outputs": [],
   "source": [
    "n = 100000\n",
    "\n",
    "obj_p = Objective(\n",
    "        name = 'p',\n",
    "        w = 0.25,\n",
    "        alternatives = p, \n",
    "        obj_min = 0.0, \n",
    "        obj_max = 4.8, \n",
    "        n = n, \n",
    "        utility_func = utility.exponential, \n",
    "        utility_pars = [0.0, ], \n",
    "        aggregation_func = aggregate.additive, \n",
    "        aggregation_pars = None,\n",
    "        maximise = False)\n",
    "\n",
    "obj_n2 = Objective(\n",
    "        name = 'n2',\n",
    "        w = 0.25,\n",
    "        alternatives = n2, \n",
    "        obj_min = 0.0, \n",
    "        obj_max = 0.48, \n",
    "        n = n, \n",
    "        utility_func = utility.exponential, \n",
    "        utility_pars = [0.0, ], \n",
    "        aggregation_func = aggregate.additive, \n",
    "        aggregation_pars = None,\n",
    "        maximise = False)\n",
    "\n",
    "obj_climate = Objective(\n",
    "        name = 'climate',\n",
    "        w = 0.25,\n",
    "        alternatives = climate, \n",
    "        obj_min = -2.5, \n",
    "        obj_max = 1.5, \n",
    "        n = n, \n",
    "        utility_func = utility.exponential, \n",
    "        utility_pars = [0.0, ], \n",
    "        aggregation_func = aggregate.additive, \n",
    "        aggregation_pars = None,\n",
    "        maximise = False)\n",
    "\n",
    "obj_savings = Objective(\n",
    "        name = 'savings',\n",
    "        w = 0.25,\n",
    "        alternatives = savings, \n",
    "        obj_min = 0.9, \n",
    "        obj_max = 40.0, \n",
    "        n = n, \n",
    "        utility_func = utility.exponential, \n",
    "        utility_pars = [0.0, ], \n",
    "        aggregation_func = aggregate.additive, \n",
    "        aggregation_pars = None,\n",
    "        maximise = False)\n",
    "\n",
    "obj_overall = Objective(\n",
    "        name = 'overall',\n",
    "        w = 0.25,\n",
    "        alternatives = overall, \n",
    "        obj_min = 0.9, \n",
    "        obj_max = 40.0, \n",
    "        n = n, \n",
    "        utility_func = utility.exponential, \n",
    "        utility_pars = 0.0, \n",
    "        aggregation_func = aggregate.additive, \n",
    "        aggregation_pars = None,\n",
    "        maximise = False)"
   ]
  },
  {
   "cell_type": "code",
   "execution_count": 25,
   "metadata": {},
   "outputs": [],
   "source": [
    "# Create the hierarchy of the objectives\n",
    "obj_overall.add_children(obj_p)\n",
    "obj_overall.add_children(obj_n2)\n",
    "obj_overall.add_children(obj_climate) \n",
    "obj_overall.add_children(obj_savings)\n"
   ]
  },
  {
   "cell_type": "code",
   "execution_count": 26,
   "metadata": {},
   "outputs": [
    {
     "data": {
      "image/png": "[encoded data removed]",
      "text/plain": [
       "<Figure size 432x288 with 1 Axes>"
      ]
     },
     "metadata": {
      "needs_background": "light"
     },
     "output_type": "display_data"
    }
   ],
   "source": [
    "# test the problem solutions\n",
    "x = [1,1,1,1,1,1,1,1,1]\n",
    "\n",
    "plt.hist(obj_overall.get_value(x))\n",
    "plt.grid()\n",
    "plt.title('Overall')\n",
    "plt.xlabel('Utility')\n",
    "plt.show()\n"
   ]
  },
  {
   "cell_type": "code",
   "execution_count": 27,
   "metadata": {},
   "outputs": [],
   "source": [
    "# Define the problem limits\n",
    "costs = [1.0, 1.0, 2.0, 10.0, 8.0, 11.0, 43.0, 23.0, 20.0]\n",
    "water = [0.03, 0.07, 0.04, 0.015, 0.10, 0.38, 0.15, 0.34, 0.46]\n",
    "budget_limit = 45.0\n",
    "\n",
    "# Make function to filter the potentially useful inputs\n",
    "def filter_inps(inps):\n",
    "    out = []\n",
    "    def follow_up(pred, post):\n",
    "        if post:\n",
    "            if not pred:\n",
    "                return False\n",
    "        return True\n",
    "        \n",
    "    def mutual_exclusive(a, b):\n",
    "        if a and b:\n",
    "            return False\n",
    "        return True\n",
    "\n",
    "    for x in inps:\n",
    "    \n",
    "        # follow up action\n",
    "        if not follow_up(x[3], x[4]):\n",
    "            continue\n",
    "        \n",
    "        # Mutually exclusive actions\n",
    "        if not mutual_exclusive(x[3], x[5]):\n",
    "            continue\n",
    "        \n",
    "        if not mutual_exclusive(x[6], x[7]):\n",
    "            continue\n",
    "        \n",
    "        if not mutual_exclusive(x[6], x[8]):\n",
    "            continue\n",
    "     \n",
    "        # Budget and water constraints\n",
    "        budget = np.sum([a for i, a in enumerate(costs) if x[i]]) \n",
    "        if budget > budget_limit:\n",
    "            continue\n",
    "    \n",
    "        water_target = 1.0 - np.prod([(1.0 - a) for i, a in enumerate(water) if x[i]])\n",
    "        if water_target < 0.5:\n",
    "            continue\n",
    "        \n",
    "        out.append(x)\n",
    "    return out\n",
    "\n",
    "# get all the results\n",
    "inp_comb = list(itertools.product([0, 1], repeat=len(x)))\n",
    "\n",
    "inps = np.array(filter_inps(inp_comb))\n",
    "res = np.array(list(map(obj_overall.get_value, inps)))\n"
   ]
  },
  {
   "cell_type": "code",
   "execution_count": 22,
   "metadata": {},
   "outputs": [
    {
     "data": {
      "image/png": "[encoded data removed]",
      "text/plain": [
       "<Figure size 432x288 with 1 Axes>"
      ]
     },
     "metadata": {
      "needs_background": "light"
     },
     "output_type": "display_data"
    }
   ],
   "source": [
    "# Evaluate the solutions\n",
    "ee = Evaluator(inps, res)\n",
    "ee.add_function(ranker.mean, minimize=True)\n",
    "ee.add_function(ranker.iqr, minimize=True)\n",
    "\n",
    "# ee.get_pareto_solutions()\n",
    "par_sols = ee.get_pareto_solutions()\n",
    "\n",
    "# Plot the pareto solutions for the overall objective\n",
    "plt.plot(ranker.mean(res), ranker.iqr(res), '.')\n",
    "plt.plot(ranker.mean(res)[par_sols], ranker.iqr(res)[par_sols], '.r')\n",
    "plt.title('Overall')\n",
    "plt.xlabel('Mean')\n",
    "plt.ylabel('IQR')\n",
    "plt.grid()\n",
    "plt.show()"
   ]
  }
 ],
 "metadata": {
  "kernelspec": {
   "display_name": "Python 3",
   "language": "python",
   "name": "python3"
  },
  "language_info": {
   "codemirror_mode": {
    "name": "ipython",
    "version": 3
   },
   "file_extension": ".py",
   "mimetype": "text/x-python",
   "name": "python",
   "nbconvert_exporter": "python",
   "pygments_lexer": "ipython3",
   "version": "3.7.3"
  }
 },
 "nbformat": 4,
 "nbformat_minor": 2
}
